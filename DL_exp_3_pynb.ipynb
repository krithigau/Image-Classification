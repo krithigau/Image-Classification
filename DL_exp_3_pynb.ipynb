{
  "nbformat": 4,
  "nbformat_minor": 0,
  "metadata": {
    "colab": {
      "provenance": [],
      "authorship_tag": "ABX9TyOAtDyK1P19vsFdnru8x29l",
      "include_colab_link": true
    },
    "kernelspec": {
      "name": "python3",
      "display_name": "Python 3"
    },
    "language_info": {
      "name": "python"
    }
  },
  "cells": [
    {
      "cell_type": "markdown",
      "metadata": {
        "id": "view-in-github",
        "colab_type": "text"
      },
      "source": [
        "<a href=\"https://colab.research.google.com/github/krithigau/Image-Classification/blob/main/DL_exp_3_pynb.ipynb\" target=\"_parent\"><img src=\"https://colab.research.google.com/assets/colab-badge.svg\" alt=\"Open In Colab\"/></a>"
      ]
    },
    {
      "cell_type": "code",
      "execution_count": 1,
      "metadata": {
        "id": "DIw6sIwFG_Pp"
      },
      "outputs": [],
      "source": [
        "import torch\n",
        "import torch.nn as nn\n",
        "import torch.optim as optim\n",
        "import torchvision\n",
        "import torchvision.transforms as transforms\n",
        "from torch.utils.data import DataLoader\n",
        "import matplotlib.pyplot as plt\n",
        "import numpy as np\n",
        "from sklearn.metrics import confusion_matrix, classification_report\n",
        "import seaborn as sns"
      ]
    },
    {
      "cell_type": "code",
      "source": [
        "transform = transforms.Compose([\n",
        "    transforms.ToTensor(),          # Convert images to tensors\n",
        "    transforms.Normalize((0.5,), (0.5,))  # Normalize images\n",
        "])"
      ],
      "metadata": {
        "id": "YRB-GFGIHDRq"
      },
      "execution_count": 2,
      "outputs": []
    },
    {
      "cell_type": "code",
      "source": [
        "train_dataset = torchvision.datasets.FashionMNIST(root=\"./data\", train=True, transform=transform, download=True)\n",
        "test_dataset = torchvision.datasets.FashionMNIST(root=\"./data\", train=False, transform=transform, download=True)"
      ],
      "metadata": {
        "id": "Y1MhfymhHFg2"
      },
      "execution_count": 20,
      "outputs": []
    },
    {
      "cell_type": "code",
      "source": [
        "# Get the shape of the first image in the training dataset\n",
        "image, label = train_dataset[0]\n",
        "print(image.shape)\n",
        "print(len(train_dataset))"
      ],
      "metadata": {
        "colab": {
          "base_uri": "https://localhost:8080/"
        },
        "id": "RzIQxDVdHH4U",
        "outputId": "2e2caaec-8551-49c5-a364-52d11c6d5a2f"
      },
      "execution_count": 4,
      "outputs": [
        {
          "output_type": "stream",
          "name": "stdout",
          "text": [
            "torch.Size([1, 28, 28])\n",
            "60000\n"
          ]
        }
      ]
    },
    {
      "cell_type": "code",
      "source": [
        "image, label = test_dataset[0]\n",
        "print(image.shape)\n",
        "print(len(test_dataset))"
      ],
      "metadata": {
        "colab": {
          "base_uri": "https://localhost:8080/"
        },
        "id": "wLYGgbUiHJ5b",
        "outputId": "b90ad54f-9724-4302-9313-9cc86ade1e71"
      },
      "execution_count": 5,
      "outputs": [
        {
          "output_type": "stream",
          "name": "stdout",
          "text": [
            "torch.Size([1, 28, 28])\n",
            "10000\n"
          ]
        }
      ]
    },
    {
      "cell_type": "code",
      "source": [
        "image, label = test_dataset[0]\n",
        "print(image.shape)\n",
        "print(len(test_dataset))"
      ],
      "metadata": {
        "colab": {
          "base_uri": "https://localhost:8080/"
        },
        "id": "Hp9_dFlDHL2e",
        "outputId": "c0904a55-73fc-4540-9283-7632402cc9a7"
      },
      "execution_count": 6,
      "outputs": [
        {
          "output_type": "stream",
          "name": "stdout",
          "text": [
            "torch.Size([1, 28, 28])\n",
            "10000\n"
          ]
        }
      ]
    },
    {
      "cell_type": "code",
      "source": [
        "# Create DataLoader for batch processing\n",
        "train_loader = DataLoader(train_dataset, batch_size=32, shuffle=True)\n",
        "test_loader = DataLoader(test_dataset, batch_size=32, shuffle=False)"
      ],
      "metadata": {
        "id": "u4Fjde9qHOFp"
      },
      "execution_count": 7,
      "outputs": []
    },
    {
      "cell_type": "code",
      "source": [
        "class CNNClassifier(nn.Module):\n",
        "    def __init__(self):\n",
        "        super(CNNClassifier, self).__init__()\n",
        "        self.conv1=nn.Conv2d(in_channels=1,out_channels=32,kernel_size=3,padding=1)\n",
        "        self.conv2=nn.Conv2d(in_channels=32,out_channels=64,kernel_size=3,padding=1)\n",
        "        self.conv3=nn.Conv2d(in_channels=64,out_channels=128,kernel_size=3,padding=1)\n",
        "        self.pool=nn.MaxPool2d(kernel_size=2,stride=2)\n",
        "        self.fc1=nn.Linear(128*3*3,128)\n",
        "        self.fc2=nn.Linear(128,64)\n",
        "        self.fc3=nn.Linear(64,10)\n",
        "    def forward(self, x):\n",
        "      x=self.pool(torch.relu(self.conv1(x)))\n",
        "      x=self.pool(torch.relu(self.conv2(x)))\n",
        "      x=self.pool(torch.relu(self.conv3(x)))\n",
        "      x=x.view(x.size(0),-1)\n",
        "      x=torch.relu(self.fc1(x))\n",
        "      x=torch.relu(self.fc2(x))\n",
        "      x=self.fc3(x)\n",
        "      return x"
      ],
      "metadata": {
        "id": "P1MN5LqkHRbT"
      },
      "execution_count": 8,
      "outputs": []
    },
    {
      "cell_type": "code",
      "source": [
        "from torchsummary import summary\n",
        "\n",
        "# Initialize model\n",
        "model = CNNClassifier()\n",
        "\n",
        "# Move model to GPU if available\n",
        "if torch.cuda.is_available():\n",
        "    device = torch.device(\"cuda\")\n",
        "    model.to(device)\n",
        "\n",
        "# Print model summary\n",
        "print('Name: KRITHIGA U')\n",
        "print('Register Number: 212223240076')\n",
        "summary(model, input_size=(1, 28, 28))\n"
      ],
      "metadata": {
        "colab": {
          "base_uri": "https://localhost:8080/"
        },
        "id": "wgRdDvdUHS8P",
        "outputId": "4ad55329-2d32-4b54-8390-f71048cae7d5"
      },
      "execution_count": 9,
      "outputs": [
        {
          "output_type": "stream",
          "name": "stdout",
          "text": [
            "Name: KRITHIGA U\n",
            "Register Number: 212223240076\n",
            "----------------------------------------------------------------\n",
            "        Layer (type)               Output Shape         Param #\n",
            "================================================================\n",
            "            Conv2d-1           [-1, 32, 28, 28]             320\n",
            "         MaxPool2d-2           [-1, 32, 14, 14]               0\n",
            "            Conv2d-3           [-1, 64, 14, 14]          18,496\n",
            "         MaxPool2d-4             [-1, 64, 7, 7]               0\n",
            "            Conv2d-5            [-1, 128, 7, 7]          73,856\n",
            "         MaxPool2d-6            [-1, 128, 3, 3]               0\n",
            "            Linear-7                  [-1, 128]         147,584\n",
            "            Linear-8                   [-1, 64]           8,256\n",
            "            Linear-9                   [-1, 10]             650\n",
            "================================================================\n",
            "Total params: 249,162\n",
            "Trainable params: 249,162\n",
            "Non-trainable params: 0\n",
            "----------------------------------------------------------------\n",
            "Input size (MB): 0.00\n",
            "Forward/backward pass size (MB): 0.42\n",
            "Params size (MB): 0.95\n",
            "Estimated Total Size (MB): 1.37\n",
            "----------------------------------------------------------------\n"
          ]
        }
      ]
    },
    {
      "cell_type": "code",
      "source": [
        "model =CNNClassifier()\n",
        "criterion =nn.CrossEntropyLoss()\n",
        "optimizer =optim.Adam(model.parameters(),lr=0.001)"
      ],
      "metadata": {
        "id": "xhc2b5KnHUqW"
      },
      "execution_count": 10,
      "outputs": []
    },
    {
      "cell_type": "code",
      "source": [
        "## Step 3: Train the Model\n",
        "def train_model(model, train_loader, num_epochs=3):\n",
        "  for epoch in range(num_epochs):\n",
        "        model.train()\n",
        "        running_loss = 0.0\n",
        "        for images, labels in train_loader:\n",
        "            optimizer.zero_grad()\n",
        "            outputs = model(images)\n",
        "            loss = criterion(outputs, labels)\n",
        "            loss.backward()\n",
        "            optimizer.step()\n",
        "            running_loss += loss.item()\n",
        "        print('Name:KRITHIGA U')\n",
        "        print('Register Number:212223240076')\n",
        "        print(f'Epoch [{epoch+1}/{num_epochs}], Loss: {running_loss/len(train_loader):.4f}')\n"
      ],
      "metadata": {
        "id": "214sB9e9HWzs"
      },
      "execution_count": 11,
      "outputs": []
    },
    {
      "cell_type": "code",
      "source": [
        "# Train the model\n",
        "train_model(model, train_loader)"
      ],
      "metadata": {
        "colab": {
          "base_uri": "https://localhost:8080/"
        },
        "id": "9vKygwDOHYo2",
        "outputId": "5bd3f12b-334d-4862-df27-bc18b87d7beb"
      },
      "execution_count": null,
      "outputs": [
        {
          "output_type": "stream",
          "name": "stdout",
          "text": [
            "Name:KRITHIGA U\n",
            "Register Number:212223240076\n",
            "Epoch [1/3], Loss: 0.4790\n",
            "Name:KRITHIGA U\n",
            "Register Number:212223240076\n",
            "Epoch [2/3], Loss: 0.2869\n"
          ]
        }
      ]
    },
    {
      "cell_type": "code",
      "source": [
        "def test_model(model, test_loader):\n",
        "    model.eval()\n",
        "    correct = 0\n",
        "    total = 0\n",
        "    all_preds = []\n",
        "    all_labels = []\n",
        "\n",
        "    with torch.no_grad():\n",
        "        for images, labels in test_loader:\n",
        "            outputs = model(images)\n",
        "            _, predicted = torch.max(outputs, 1)\n",
        "            total += labels.size(0)\n",
        "            correct += (predicted == labels).sum().item()\n",
        "            all_preds.extend(predicted.cpu().numpy())\n",
        "            all_labels.extend(labels.cpu().numpy())\n",
        "\n",
        "    accuracy = correct / total\n",
        "    print('Name:KRITHIGA U')\n",
        "    print('Register Number:212223240076')\n",
        "    print(f'Test Accuracy: {accuracy:.4f}')\n",
        "\n",
        "    # Compute confusion matrix\n",
        "    cm = confusion_matrix(all_labels, all_preds)\n",
        "    plt.figure(figsize=(8, 6))\n",
        "    print('Name:KRITHIGA U')\n",
        "    print('Register Number:212223240076')\n",
        "    sns.heatmap(cm, annot=True, fmt='d', cmap='Blues', xticklabels=test_dataset.classes, yticklabels=test_dataset.classes)\n",
        "    plt.xlabel('Predicted')\n",
        "    plt.ylabel('Actual')\n",
        "    plt.title('Confusion Matrix')\n",
        "    plt.show()\n",
        "\n",
        "    # Print classification report\n",
        "    print('Name:KRITHIGA U')\n",
        "    print('Register Number:212223240076')\n",
        "    print(\"Classification Report:\")\n",
        "    print(classification_report(all_labels, all_preds, target_names=test_dataset.classes))\n"
      ],
      "metadata": {
        "id": "f5WfGvalHavn"
      },
      "execution_count": null,
      "outputs": []
    },
    {
      "cell_type": "code",
      "source": [
        "# Evaluate the model\n",
        "test_model(model, test_loader)"
      ],
      "metadata": {
        "colab": {
          "base_uri": "https://localhost:8080/",
          "height": 1000
        },
        "id": "dM-atLeUHck0",
        "outputId": "b2b2df01-b589-4b1e-ae55-667aa15881b5"
      },
      "execution_count": 17,
      "outputs": [
        {
          "output_type": "stream",
          "name": "stdout",
          "text": [
            "Name:KRITHIGA U\n",
            "Register Number:212223240076\n",
            "Test Accuracy: 0.9069\n",
            "Name:KRITHIGA U\n",
            "Register Number:212223240076\n"
          ]
        },
        {
          "output_type": "display_data",
          "data": {
            "text/plain": [
              "<Figure size 800x600 with 2 Axes>"
            ],
            "image/png": "[encoded data removed]"
          },
          "metadata": {}
        },
        {
          "output_type": "stream",
          "name": "stdout",
          "text": [
            "Name:KRITHIGA U\n",
            "Register Number:212223240076\n",
            "Classification Report:\n",
            "              precision    recall  f1-score   support\n",
            "\n",
            " T-shirt/top       0.85      0.87      0.86      1000\n",
            "     Trouser       1.00      0.97      0.99      1000\n",
            "    Pullover       0.87      0.87      0.87      1000\n",
            "       Dress       0.89      0.93      0.91      1000\n",
            "        Coat       0.85      0.87      0.86      1000\n",
            "      Sandal       0.94      1.00      0.97      1000\n",
            "       Shirt       0.76      0.72      0.74      1000\n",
            "     Sneaker       0.98      0.90      0.94      1000\n",
            "         Bag       0.99      0.97      0.98      1000\n",
            "  Ankle boot       0.95      0.96      0.95      1000\n",
            "\n",
            "    accuracy                           0.91     10000\n",
            "   macro avg       0.91      0.91      0.91     10000\n",
            "weighted avg       0.91      0.91      0.91     10000\n",
            "\n"
          ]
        }
      ]
    },
    {
      "cell_type": "code",
      "source": [
        "## Step 5: Predict on a Single Image\n",
        "import matplotlib.pyplot as plt\n",
        "def predict_image(model, image_index, dataset):\n",
        "    model.eval()\n",
        "    image, label = dataset[image_index]\n",
        "    with torch.no_grad():\n",
        "        output = model(image.unsqueeze(0))  # Add batch dimension\n",
        "        _, predicted = torch.max(output, 1)\n",
        "    class_names = dataset.classes\n",
        "\n",
        "    # Display the image\n",
        "    print('Name:KRITHIGA U')\n",
        "    print('Register Number:212223240076')\n",
        "    plt.imshow(image.squeeze(), cmap=\"gray\")\n",
        "    plt.title(f'Actual: {class_names[label]}\\nPredicted: {class_names[predicted.item()]}')\n",
        "    plt.axis(\"off\")\n",
        "    plt.show()\n",
        "    print(f'Actual: {class_names[label]}, Predicted: {class_names[predicted.item()]}')\n"
      ],
      "metadata": {
        "id": "8wMyr_FuHelt"
      },
      "execution_count": 18,
      "outputs": []
    },
    {
      "cell_type": "code",
      "source": [
        "# Example Prediction\n",
        "predict_image(model, image_index=80, dataset=test_dataset)"
      ],
      "metadata": {
        "colab": {
          "base_uri": "https://localhost:8080/",
          "height": 501
        },
        "id": "CDSCVRMIHhWf",
        "outputId": "07aee8eb-ddee-4064-8641-d77ab292b320"
      },
      "execution_count": 19,
      "outputs": [
        {
          "output_type": "stream",
          "name": "stdout",
          "text": [
            "Name:KRITHIGA U\n",
            "Register Number:212223240076\n"
          ]
        },
        {
          "output_type": "display_data",
          "data": {
            "text/plain": [
              "<Figure size 640x480 with 1 Axes>"
            ],
            "image/png": "[encoded data removed]"
          },
          "metadata": {}
        },
        {
          "output_type": "stream",
          "name": "stdout",
          "text": [
            "Actual: Trouser, Predicted: Trouser\n"
          ]
        }
      ]
    },
    {
      "cell_type": "code",
      "source": [],
      "metadata": {
        "id": "Csosuw0rLb7Q"
      },
      "execution_count": null,
      "outputs": []
    }
  ]
}